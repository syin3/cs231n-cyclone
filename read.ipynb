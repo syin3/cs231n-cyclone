{
 "cells": [
  {
   "cell_type": "markdown",
   "metadata": {},
   "source": [
    "# Import modules\n",
    "Run 1st."
   ]
  },
  {
   "cell_type": "code",
   "execution_count": 1,
   "metadata": {
    "scrolled": true
   },
   "outputs": [
    {
     "name": "stdout",
     "output_type": "stream",
     "text": [
      "PyTorch Version:  1.0.1.post2\n",
      "Torchvision Version:  0.2.2\n"
     ]
    }
   ],
   "source": [
    "from __future__ import print_function\n",
    "from __future__ import division\n",
    "\n",
    "import numpy as np\n",
    "import pandas as pd\n",
    "import h5py\n",
    "import matplotlib.pyplot as plt\n",
    "import copy\n",
    "import time\n",
    "import skimage\n",
    "import math\n",
    "\n",
    "import torch\n",
    "import torch.nn as nn\n",
    "import torch.optim as optim\n",
    "import torch.utils.data as data\n",
    "from torch.utils.data import DataLoader\n",
    "from torch.utils.data import SubsetRandomSampler\n",
    "import torch.utils.model_zoo as model_zoo\n",
    "import torchvision\n",
    "from torchvision import transforms, datasets, models\n",
    "print(\"PyTorch Version: \",torch.__version__)\n",
    "print(\"Torchvision Version: \",torchvision.__version__)\n",
    "\n",
    "np.random.seed(0)\n",
    "device = torch.device(\"cuda:0\" if torch.cuda.is_available() else \"cpu\")"
   ]
  },
  {
   "cell_type": "markdown",
   "metadata": {},
   "source": [
    "# Define Deep Learning model\n",
    "Run 2nd."
   ]
  },
  {
   "cell_type": "markdown",
   "metadata": {},
   "source": [
    "### ResNet"
   ]
  },
  {
   "cell_type": "code",
   "execution_count": null,
   "metadata": {},
   "outputs": [],
   "source": [
    "# __all__ = ['ResNet', 'resnet18', 'resnet34', 'resnet50', 'resnet101',\n",
    "#            'resnet152']\n",
    "\n",
    "\n",
    "# model_urls = {\n",
    "#     'resnet18': 'https://download.pytorch.org/models/resnet18-5c106cde.pth',\n",
    "#     'resnet34': 'https://download.pytorch.org/models/resnet34-333f7ec4.pth',\n",
    "#     'resnet50': 'https://download.pytorch.org/models/resnet50-19c8e357.pth',\n",
    "#     'resnet101': 'https://download.pytorch.org/models/resnet101-5d3b4d8f.pth',\n",
    "#     'resnet152': 'https://download.pytorch.org/models/resnet152-b121ed2d.pth',\n",
    "# }\n",
    "\n",
    "\n",
    "def conv3x3(in_planes, out_planes, stride=1):\n",
    "    \"\"\"3x3 convolution with padding\"\"\"\n",
    "    return nn.Conv2d(in_planes, out_planes, kernel_size=3, stride=stride,\n",
    "                     padding=1, bias=False)\n",
    "\n",
    "\n",
    "class BasicBlock(nn.Module):\n",
    "    expansion = 1\n",
    "\n",
    "    def __init__(self, inplanes, planes, stride=1, downsample=None):\n",
    "        super(BasicBlock, self).__init__()\n",
    "        self.conv1 = conv3x3(inplanes, planes, stride)\n",
    "        self.bn1 = nn.BatchNorm2d(planes)\n",
    "        self.relu = nn.ReLU(inplace=True)\n",
    "        self.conv2 = conv3x3(planes, planes)\n",
    "        self.bn2 = nn.BatchNorm2d(planes)\n",
    "        self.downsample = downsample\n",
    "        self.stride = stride\n",
    "\n",
    "    def forward(self, x):\n",
    "        residual = x\n",
    "\n",
    "        out = self.conv1(x)\n",
    "        out = self.bn1(out)\n",
    "        out = self.relu(out)\n",
    "\n",
    "        out = self.conv2(out)\n",
    "        out = self.bn2(out)\n",
    "\n",
    "        if self.downsample is not None:\n",
    "            residual = self.downsample(x)\n",
    "\n",
    "        out += residual\n",
    "        out = self.relu(out)\n",
    "\n",
    "        return out\n",
    "\n",
    "\n",
    "class Bottleneck(nn.Module):\n",
    "    expansion = 4\n",
    "\n",
    "    def __init__(self, inplanes, planes, stride=1, downsample=None):\n",
    "        super(Bottleneck, self).__init__()\n",
    "        self.conv1 = nn.Conv2d(inplanes, planes, kernel_size=1, bias=False)\n",
    "        self.bn1 = nn.BatchNorm2d(planes)\n",
    "        self.conv2 = nn.Conv2d(planes, planes, kernel_size=3, stride=stride,\n",
    "                               padding=1, bias=False)\n",
    "        self.bn2 = nn.BatchNorm2d(planes)\n",
    "        self.conv3 = nn.Conv2d(planes, planes * 4, kernel_size=1, bias=False)\n",
    "        self.bn3 = nn.BatchNorm2d(planes * 4)\n",
    "        self.relu = nn.ReLU(inplace=True)\n",
    "        self.downsample = downsample\n",
    "        self.stride = stride\n",
    "\n",
    "    def forward(self, x):\n",
    "        residual = x\n",
    "\n",
    "        out = self.conv1(x)\n",
    "        out = self.bn1(out)\n",
    "        out = self.relu(out)\n",
    "\n",
    "        out = self.conv2(out)\n",
    "        out = self.bn2(out)\n",
    "        out = self.relu(out)\n",
    "\n",
    "        out = self.conv3(out)\n",
    "        out = self.bn3(out)\n",
    "\n",
    "        if self.downsample is not None:\n",
    "            residual = self.downsample(x)\n",
    "\n",
    "        out += residual\n",
    "        out = self.relu(out)\n",
    "\n",
    "        return out\n",
    "\n",
    "\n",
    "class ResNet(nn.Module):\n",
    "\n",
    "    def __init__(self, block, layers, num_classes=1000):\n",
    "        self.inplanes = 64\n",
    "        super(ResNet, self).__init__()\n",
    "        ###\n",
    "        ### change 3 to 2 for our data\n",
    "        ###\n",
    "        self.conv1 = nn.Conv2d(2, 64, kernel_size=7, stride=2, padding=3,\n",
    "                               bias=False)\n",
    "        self.bn1 = nn.BatchNorm2d(64)\n",
    "        self.relu = nn.ReLU(inplace=True)\n",
    "        self.maxpool = nn.MaxPool2d(kernel_size=3, stride=2, padding=1)\n",
    "        self.layer1 = self._make_layer(block, 64, layers[0])\n",
    "        self.layer2 = self._make_layer(block, 128, layers[1], stride=2)\n",
    "        self.layer3 = self._make_layer(block, 256, layers[2], stride=2)\n",
    "        self.layer4 = self._make_layer(block, 512, layers[3], stride=2)\n",
    "        self.avgpool = nn.AvgPool2d(7, stride=1)\n",
    "        self.fc = nn.Linear(512 * block.expansion, num_classes)\n",
    "\n",
    "        for m in self.modules():\n",
    "            if isinstance(m, nn.Conv2d):\n",
    "                n = m.kernel_size[0] * m.kernel_size[1] * m.out_channels\n",
    "                m.weight.data.normal_(0, math.sqrt(2. / n))\n",
    "            elif isinstance(m, nn.BatchNorm2d):\n",
    "                m.weight.data.fill_(1)\n",
    "                m.bias.data.zero_()\n",
    "\n",
    "    def _make_layer(self, block, planes, blocks, stride=1):\n",
    "        downsample = None\n",
    "        if stride != 1 or self.inplanes != planes * block.expansion:\n",
    "            downsample = nn.Sequential(\n",
    "                nn.Conv2d(self.inplanes, planes * block.expansion,\n",
    "                          kernel_size=1, stride=stride, bias=False),\n",
    "                nn.BatchNorm2d(planes * block.expansion),\n",
    "            )\n",
    "\n",
    "        layers = []\n",
    "        layers.append(block(self.inplanes, planes, stride, downsample))\n",
    "        self.inplanes = planes * block.expansion\n",
    "        for i in range(1, blocks):\n",
    "            layers.append(block(self.inplanes, planes))\n",
    "\n",
    "        return nn.Sequential(*layers)\n",
    "\n",
    "    def forward(self, x):\n",
    "        x = self.conv1(x)\n",
    "        x = self.bn1(x)\n",
    "        x = self.relu(x)\n",
    "        x = self.maxpool(x)\n",
    "\n",
    "        x = self.layer1(x)\n",
    "        x = self.layer2(x)\n",
    "        x = self.layer3(x)\n",
    "        x = self.layer4(x)\n",
    "\n",
    "        x = self.avgpool(x)\n",
    "        x = x.view(x.size(0), -1)\n",
    "        x = self.fc(x)\n",
    "\n",
    "        return x\n",
    "\n",
    "\n",
    "def resnet18(pretrained=False, **kwargs):\n",
    "    \"\"\"Constructs a ResNet-18 model.\n",
    "\n",
    "    Args:\n",
    "        pretrained (bool): If True, returns a model pre-trained on ImageNet\n",
    "    \"\"\"\n",
    "    model = ResNet(BasicBlock, [2, 2, 2, 2], **kwargs)\n",
    "    if pretrained:\n",
    "        model.load_state_dict(model_zoo.load_url(model_urls['resnet18']))\n",
    "    return model\n",
    "\n",
    "\n",
    "\n",
    "def resnet34(pretrained=False, **kwargs):\n",
    "    \"\"\"Constructs a ResNet-34 model.\n",
    "\n",
    "    Args:\n",
    "        pretrained (bool): If True, returns a model pre-trained on ImageNet\n",
    "    \"\"\"\n",
    "    model = ResNet(BasicBlock, [3, 4, 6, 3], **kwargs)\n",
    "    if pretrained:\n",
    "        model.load_state_dict(model_zoo.load_url(model_urls['resnet34']))\n",
    "    return model\n",
    "\n",
    "\n",
    "\n",
    "def resnet50(pretrained=False, **kwargs):\n",
    "    \"\"\"Constructs a ResNet-50 model.\n",
    "\n",
    "    Args:\n",
    "        pretrained (bool): If True, returns a model pre-trained on ImageNet\n",
    "    \"\"\"\n",
    "    model = ResNet(Bottleneck, [3, 4, 6, 3], **kwargs)\n",
    "    if pretrained:\n",
    "        model.load_state_dict(model_zoo.load_url(model_urls['resnet50']))\n",
    "    return model\n",
    "\n",
    "\n",
    "\n",
    "def resnet101(pretrained=False, **kwargs):\n",
    "    \"\"\"Constructs a ResNet-101 model.\n",
    "\n",
    "    Args:\n",
    "        pretrained (bool): If True, returns a model pre-trained on ImageNet\n",
    "    \"\"\"\n",
    "    model = ResNet(Bottleneck, [3, 4, 23, 3], **kwargs)\n",
    "    if pretrained:\n",
    "        model.load_state_dict(model_zoo.load_url(model_urls['resnet101']))\n",
    "    return model\n",
    "\n",
    "\n",
    "\n",
    "def resnet152(pretrained=False, **kwargs):\n",
    "    \"\"\"Constructs a ResNet-152 model.\n",
    "\n",
    "    Args:\n",
    "        pretrained (bool): If True, returns a model pre-trained on ImageNet\n",
    "    \"\"\"\n",
    "    model = ResNet(Bottleneck, [3, 8, 36, 3], **kwargs)\n",
    "    if pretrained:\n",
    "        model.load_state_dict(model_zoo.load_url(model_urls['resnet152']))\n",
    "    return model"
   ]
  },
  {
   "cell_type": "markdown",
   "metadata": {
    "heading_collapsed": true
   },
   "source": [
    "### classic AlexNet"
   ]
  },
  {
   "cell_type": "code",
   "execution_count": null,
   "metadata": {
    "hidden": true
   },
   "outputs": [],
   "source": [
    "class classicAlexNet(nn.Module):\n",
    "\n",
    "    def __init__(self, num_classes=1000):\n",
    "        super(classicAlexNet, self).__init__()\n",
    "        ###\n",
    "        ### Changed 3 to 4 to fit our data dimension sieze\n",
    "        ###\n",
    "        self.features = nn.Sequential(\n",
    "            nn.Conv2d(3, 64, kernel_size=11, stride=4, padding=2),\n",
    "            nn.ReLU(inplace=True),\n",
    "            nn.MaxPool2d(kernel_size=3, stride=2),\n",
    "            nn.Conv2d(64, 192, kernel_size=5, padding=2),\n",
    "            nn.ReLU(inplace=True),\n",
    "            nn.MaxPool2d(kernel_size=3, stride=2),\n",
    "            nn.Conv2d(192, 384, kernel_size=3, padding=1),\n",
    "            nn.ReLU(inplace=True),\n",
    "            nn.Conv2d(384, 256, kernel_size=3, padding=1),\n",
    "            nn.ReLU(inplace=True),\n",
    "            nn.Conv2d(256, 256, kernel_size=3, padding=1),\n",
    "            nn.ReLU(inplace=True),\n",
    "            nn.MaxPool2d(kernel_size=3, stride=2),\n",
    "        )\n",
    "        self.avgpool = nn.AdaptiveAvgPool2d((6, 6))\n",
    "        self.classifier = nn.Sequential(\n",
    "            nn.Dropout(),\n",
    "            nn.Linear(256 * 6 * 6, 4096),\n",
    "            nn.ReLU(inplace=True),\n",
    "            nn.Dropout(),\n",
    "            nn.Linear(4096, 4096),\n",
    "            nn.ReLU(inplace=True),\n",
    "            nn.Linear(4096, num_classes),\n",
    "        )\n",
    "\n",
    "    def forward(self, x):\n",
    "        x = self.features(x)\n",
    "        x = self.avgpool(x)\n",
    "        x = x.view(x.size(0), 256 * 6 * 6)\n",
    "        x = self.classifier(x)\n",
    "        return x\n",
    "\n",
    "\n",
    "def alexnet(pretrained=False, progress=True, **kwargs):\n",
    "    r\"\"\"AlexNet model architecture from the\n",
    "    `\"One weird trick...\" <https://arxiv.org/abs/1404.5997>`_ paper.\n",
    "\n",
    "    Args:\n",
    "        pretrained (bool): If True, returns a model pre-trained on ImageNet\n",
    "        progress (bool): If True, displays a progress bar of the download to stderr\n",
    "    \"\"\"\n",
    "    model = classicAlexNet(**kwargs)\n",
    "    if pretrained:\n",
    "        state_dict = load_state_dict_from_url(model_urls['alexnet'],\n",
    "                                              progress=progress)\n",
    "        model.load_state_dict(state_dict)\n",
    "    return model\n"
   ]
  },
  {
   "cell_type": "markdown",
   "metadata": {},
   "source": [
    "### modified AlexNet by Paper (kddTC)"
   ]
  },
  {
   "cell_type": "code",
   "execution_count": 2,
   "metadata": {},
   "outputs": [],
   "source": [
    "'''\n",
    "Notice data fed to kddTC should follow the pre-processing steps by the paper\n",
    "Especially, (1) only two channels should be included;\n",
    "(2) middle cropping;\n",
    "(3) rotation?\n",
    "'''\n",
    "class kddAlex(nn.Module):\n",
    "\n",
    "    def __init__(self, num_outputs = 1):\n",
    "        super(kddAlex, self).__init__()\n",
    "        ###\n",
    "        ### Changed 3 to 2 to fit our data dimension sieze\n",
    "        ###\n",
    "        self.features = nn.Sequential(\n",
    "            # nn.Conv2d(2, 64, kernel_size=11, stride=4, padding=2),\n",
    "            # nn.ReLU(inplace=True),\n",
    "            # nn.MaxPool2d(kernel_size=3, stride=2),\n",
    "            nn.Conv2d(2, 16, kernel_size=4, stride=2),\n",
    "            nn.ReLU(inplace=True),\n",
    "            # nn.MaxPool2d(kernel_size=3, stride=2),\n",
    "            nn.Conv2d(16, 32, kernel_size=3, stride=2),\n",
    "            nn.ReLU(inplace=True),\n",
    "            nn.Conv2d(32, 64, kernel_size=3, stride=2),\n",
    "            nn.ReLU(inplace=True),\n",
    "            nn.Conv2d(64, 128, kernel_size=3, stride=2),\n",
    "            nn.ReLU(inplace=True),\n",
    "            # nn.MaxPool2d(kernel_size=3, stride=2),\n",
    "        )\n",
    "        # self.avgpool = nn.AdaptiveAvgPool2d((6, 6))\n",
    "        self.classifier = nn.Sequential(\n",
    "            # nn.Dropout(),\n",
    "            nn.Linear(128 * 3 * 3, 256),\n",
    "            nn.ReLU(inplace=True),\n",
    "            # nn.Dropout(),\n",
    "            nn.Linear(256, 64),\n",
    "            nn.ReLU(inplace=True),\n",
    "            nn.Linear(64, num_outputs),\n",
    "        )\n",
    "\n",
    "    def forward(self, x):\n",
    "        x = self.features(x)\n",
    "        # x = self.avgpool(x)\n",
    "        x = x.view(x.size(0), 128 * 3 * 3)\n",
    "        x = self.classifier(x)\n",
    "        return x\n",
    "\n",
    "\n",
    "def kddTC(pretrained=False, progress=True, **kwargs):\n",
    "    r\"\"\"AlexNet model architecture from the\n",
    "    `\"One weird trick...\" <https://arxiv.org/abs/1404.5997>`_ paper.\n",
    "\n",
    "    Args:\n",
    "        pretrained (bool): If True, returns a model pre-trained on ImageNet\n",
    "        progress (bool): If True, displays a progress bar of the download to stderr\n",
    "    \"\"\"\n",
    "    model = kddAlex(**kwargs)\n",
    "    # if pretrained:\n",
    "    #    state_dict = load_state_dict_from_url(model_urls['alexnet'],\n",
    "    #                                          progress=progress)\n",
    "    #    model.load_state_dict(state_dict)\n",
    "    return model\n"
   ]
  },
  {
   "cell_type": "markdown",
   "metadata": {
    "heading_collapsed": true
   },
   "source": [
    "# Before the model, obtain enough info"
   ]
  },
  {
   "cell_type": "markdown",
   "metadata": {
    "heading_collapsed": true,
    "hidden": true
   },
   "source": [
    "## Load in data from h5py"
   ]
  },
  {
   "cell_type": "code",
   "execution_count": null,
   "metadata": {
    "hidden": true
   },
   "outputs": [],
   "source": [
    "data_path = \"TCIR-ALL_2017.h5\"\n",
    "\n",
    "# load \"info\" as pandas dataframe\n",
    "data_info = pd.read_hdf(data_path, key=\"info\", mode='r')\n",
    "\n",
    "# load \"matrix\" as numpy ndarray, this could take longer times\n",
    "with h5py.File(data_path, 'r') as hf:\n",
    "    data_matrix = hf['matrix'][:]"
   ]
  },
  {
   "cell_type": "code",
   "execution_count": null,
   "metadata": {
    "hidden": true
   },
   "outputs": [],
   "source": [
    "data_matrix.reshape(-1, 4).mean(axis = 0)"
   ]
  },
  {
   "cell_type": "markdown",
   "metadata": {
    "heading_collapsed": true,
    "hidden": true
   },
   "source": [
    "## Trials"
   ]
  },
  {
   "cell_type": "markdown",
   "metadata": {
    "heading_collapsed": true,
    "hidden": true
   },
   "source": [
    "### Rotate"
   ]
  },
  {
   "cell_type": "code",
   "execution_count": null,
   "metadata": {
    "hidden": true
   },
   "outputs": [],
   "source": [
    "skimage.transform.rotate(data_matrix[0, :, :, :], 10).shape"
   ]
  },
  {
   "cell_type": "code",
   "execution_count": null,
   "metadata": {
    "hidden": true
   },
   "outputs": [],
   "source": [
    "plt.hist(data_matrix[0, :, :, 0].flatten(), 100)\n",
    "plt.show()"
   ]
  },
  {
   "cell_type": "code",
   "execution_count": null,
   "metadata": {
    "hidden": true
   },
   "outputs": [],
   "source": [
    "plt.hist(skimage.transform.rotate(data_matrix[0, :, :, 0], 1, preserve_range=True).flatten(), 100)\n",
    "plt.show()"
   ]
  },
  {
   "cell_type": "code",
   "execution_count": null,
   "metadata": {
    "hidden": true
   },
   "outputs": [],
   "source": [
    "import scipy\n",
    "plt.hist(scipy.ndimage.rotate(data_matrix[0, :, :, 0], 1).flatten(), 100)\n",
    "plt.show()"
   ]
  },
  {
   "cell_type": "code",
   "execution_count": null,
   "metadata": {
    "hidden": true,
    "scrolled": true
   },
   "outputs": [],
   "source": [
    "plt.imshow(data_matrix[0, :, :, 0], cmap='gray')\n",
    "plt.show()"
   ]
  },
  {
   "cell_type": "code",
   "execution_count": null,
   "metadata": {
    "hidden": true
   },
   "outputs": [],
   "source": [
    "plt.imshow(skimage.transform.rotate(data_matrix[0, :, :, 0], 90, preserve_range=True), cmap='gray')\n",
    "plt.show()"
   ]
  },
  {
   "cell_type": "code",
   "execution_count": null,
   "metadata": {
    "hidden": true
   },
   "outputs": [],
   "source": [
    "np.max(data_matrix[0, :, :, 0])"
   ]
  },
  {
   "cell_type": "code",
   "execution_count": null,
   "metadata": {
    "hidden": true
   },
   "outputs": [],
   "source": [
    "np.max(skimage.transform.rotate(data_matrix[0, :, :, 0], 10, preserve_range=True))"
   ]
  },
  {
   "cell_type": "markdown",
   "metadata": {
    "heading_collapsed": true,
    "hidden": true
   },
   "source": [
    "### Check how many in matrix is nan\n",
    "Must deal with data outlier as proposed in paper"
   ]
  },
  {
   "cell_type": "code",
   "execution_count": null,
   "metadata": {
    "hidden": true
   },
   "outputs": [],
   "source": [
    "np.prod(data_matrix.shape)"
   ]
  },
  {
   "cell_type": "code",
   "execution_count": null,
   "metadata": {
    "hidden": true,
    "scrolled": true
   },
   "outputs": [],
   "source": [
    "count = 0\n",
    "for i in range(data_matrix.shape[0]):\n",
    "    if np.count_nonzero(np.isnan(data_matrix[i, :, :, :])) > 0:\n",
    "        count += 1\n",
    "print(count)\n",
    "print(data_matrix.shape[0])"
   ]
  },
  {
   "cell_type": "markdown",
   "metadata": {
    "heading_collapsed": true,
    "hidden": true
   },
   "source": [
    "### A sketch of label matrix\n",
    "Vmax is wind speed, MSLP is minimum sea level pressure, R35_4qAVG is radius."
   ]
  },
  {
   "cell_type": "code",
   "execution_count": null,
   "metadata": {
    "hidden": true
   },
   "outputs": [],
   "source": [
    "data_info"
   ]
  },
  {
   "cell_type": "markdown",
   "metadata": {
    "heading_collapsed": true,
    "hidden": true
   },
   "source": [
    "### Several visualizations"
   ]
  },
  {
   "cell_type": "code",
   "execution_count": null,
   "metadata": {
    "hidden": true
   },
   "outputs": [],
   "source": [
    "plt.plot(data_info.loc[data_info['ID'] == '201733W']['Vmax'])\n",
    "plt.show()"
   ]
  },
  {
   "cell_type": "code",
   "execution_count": null,
   "metadata": {
    "hidden": true
   },
   "outputs": [],
   "source": [
    "plt.imshow(data_matrix[0,:,:,0], cmap='gray')\n",
    "plt.show()"
   ]
  },
  {
   "cell_type": "code",
   "execution_count": null,
   "metadata": {
    "hidden": true
   },
   "outputs": [],
   "source": [
    "plt.imshow(data_matrix[1,:,:,0], cmap='gray')\n",
    "plt.show()"
   ]
  },
  {
   "cell_type": "code",
   "execution_count": null,
   "metadata": {
    "hidden": true
   },
   "outputs": [],
   "source": [
    "plt.imshow(data_matrix[2,:,:,0], cmap='gray')\n",
    "plt.show()"
   ]
  },
  {
   "cell_type": "code",
   "execution_count": null,
   "metadata": {
    "hidden": true
   },
   "outputs": [],
   "source": [
    "plt.imshow(data_matrix[10,:,:,0], cmap='gray')\n",
    "plt.show()"
   ]
  },
  {
   "cell_type": "markdown",
   "metadata": {
    "heading_collapsed": true,
    "hidden": true
   },
   "source": [
    "## Obtain mean and variance of training set"
   ]
  },
  {
   "cell_type": "code",
   "execution_count": null,
   "metadata": {
    "hidden": true
   },
   "outputs": [],
   "source": []
  },
  {
   "cell_type": "code",
   "execution_count": null,
   "metadata": {
    "hidden": true
   },
   "outputs": [],
   "source": []
  },
  {
   "cell_type": "markdown",
   "metadata": {},
   "source": [
    "# Try a model with Pytorch API"
   ]
  },
  {
   "cell_type": "markdown",
   "metadata": {
    "heading_collapsed": true
   },
   "source": [
    "### Check h5df file\n",
    "Don't run."
   ]
  },
  {
   "cell_type": "code",
   "execution_count": null,
   "metadata": {
    "hidden": true
   },
   "outputs": [],
   "source": [
    "def h5printR(item, leading = ''):\n",
    "    for key in item:\n",
    "        if isinstance(item[key], h5py.Dataset):\n",
    "            print(leading + key + ': ' + str(item[key].shape))\n",
    "        else:\n",
    "            print(leading + key)\n",
    "            h5printR(item[key], leading + '  ')\n",
    "\n",
    "# Print structure of a `.h5` file            \n",
    "def h5print(filename):\n",
    "    with h5py.File(filename, 'r') as h:\n",
    "        print(filename)\n",
    "        h5printR(h, '  ')"
   ]
  },
  {
   "cell_type": "code",
   "execution_count": null,
   "metadata": {
    "hidden": true
   },
   "outputs": [],
   "source": [
    "file_path = 'TCIR-ALL_2017.h5'\n",
    "h5_file = h5py.File(file_path)\n",
    "matrix = h5_file.get('matrix')\n",
    "target = h5_file.get('info') #/block0_values"
   ]
  },
  {
   "cell_type": "code",
   "execution_count": null,
   "metadata": {
    "hidden": true
   },
   "outputs": [],
   "source": [
    "list(target['block0_items'])"
   ]
  },
  {
   "cell_type": "code",
   "execution_count": null,
   "metadata": {
    "hidden": true
   },
   "outputs": [],
   "source": [
    "h5print('TCIR-ALL_2017.h5')"
   ]
  },
  {
   "cell_type": "code",
   "execution_count": null,
   "metadata": {
    "hidden": true
   },
   "outputs": [],
   "source": [
    "datMatrix = torch.from_numpy(matrix[:, 68 : 68 + 64, 68 : 68 + 64, [0,3]]).permute(0, 3, 1, 2).float()\n",
    "datMatrix = np.nan_to_num(datMatrix)\n",
    "datMatrix[datMatrix > 1000] = 0"
   ]
  },
  {
   "cell_type": "code",
   "execution_count": null,
   "metadata": {
    "hidden": true
   },
   "outputs": [],
   "source": [
    "np.count_nonzero(np.isnan(datMatrix))"
   ]
  },
  {
   "cell_type": "markdown",
   "metadata": {},
   "source": [
    "## Continue: data load, model train\n",
    "+ **Run 3rd**.<br>\n",
    "+ Dimension does not match. Pytorch defaults to $N\\times C\\times H\\times W$, while our data comes in $N\\times H\\times W\\times C\\$. Use **permute()** to swap axis. <br>\n",
    "+ Next, we have four channels while resnet only accepts 3"
   ]
  },
  {
   "cell_type": "code",
   "execution_count": 3,
   "metadata": {},
   "outputs": [],
   "source": [
    "class kddTCData(data.Dataset):\n",
    "\n",
    "    def __init__(self, file_path, transform=None):\n",
    "        super(kddTCData, self).__init__()\n",
    "        h5_file = h5py.File(file_path)\n",
    "        self.data = h5_file.get('matrix')\n",
    "        # hard code the Vmax label\n",
    "        self.target = h5_file.get('info/block0_values')[:,2]\n",
    "        self.transform = transform\n",
    "\n",
    "    def __getitem__(self, index):\n",
    "        # middle crop and permute axis\n",
    "        datMatrix = torch.from_numpy(self.data[index, 68 : (68 + 64), 68 : (68 + 64), [0,3]]).permute(2, 0, 1).float()\n",
    "        # [0,3]\n",
    "        # datMatrix = (datMatrix - datMatrix.mean(axis=0)) / datMatrix.std(axis=0)\n",
    "        labMatrix = torch.from_numpy(self.target)[index].float()\n",
    "        # replace nan with 0\n",
    "        datMatrix = np.nan_to_num(datMatrix)\n",
    "        # replace extremely large values with 0\n",
    "        datMatrix[datMatrix > 1000] = 0\n",
    "        return (datMatrix, labMatrix)\n",
    "\n",
    "    def __len__(self):\n",
    "        return self.data.shape[0]\n",
    "    \n",
    "    def length(self):\n",
    "        return self.data.shape[0]"
   ]
  },
  {
   "cell_type": "code",
   "execution_count": 4,
   "metadata": {},
   "outputs": [],
   "source": [
    "def train_model(model, dataloaders, criterion, optimizer, num_epochs, length, is_inception=False):\n",
    "    since = time.time()\n",
    "    \n",
    "    train_loss_history = []\n",
    "    val_loss_history = []\n",
    "\n",
    "    best_model_wts = copy.deepcopy(model.state_dict())\n",
    "    # best_acc = 0.0\n",
    "    best_loss = float(\"inf\")\n",
    "\n",
    "    for epoch in range(num_epochs):\n",
    "        print('Epoch {}/{}'.format(epoch, num_epochs - 1))\n",
    "        print('-' * 10)\n",
    "\n",
    "        # Each epoch has a training and validation phase\n",
    "        for phase in ['train', 'val']:\n",
    "            if phase == 'train':\n",
    "                model.train()  # Set model to training mode\n",
    "            else:\n",
    "                model.eval()   # Set model to evaluate mode\n",
    "\n",
    "            running_loss = 0.0\n",
    "            # running_corrects = 0\n",
    "\n",
    "            # Iterate over data.\n",
    "            for inputs, labels in dataloaders[phase]:\n",
    "                inputs = inputs.to(device)\n",
    "                labels = labels.to(device)\n",
    "\n",
    "                # zero the parameter gradients\n",
    "                optimizer.zero_grad()\n",
    "\n",
    "                # forward\n",
    "                # track history if only in train\n",
    "                with torch.set_grad_enabled(phase == 'train'):\n",
    "                    # Get model outputs and calculate loss\n",
    "                    # Special case for inception because in training it has an auxiliary output. In train\n",
    "                    #   mode we calculate the loss by summing the final output and the auxiliary output\n",
    "                    #   but in testing we only consider the final output.\n",
    "                    if is_inception and phase == 'train':\n",
    "                        # From https://discuss.pytorch.org/t/how-to-optimize-inception-model-with-auxiliary-classifiers/7958\n",
    "                        outputs, aux_outputs = model(inputs)\n",
    "                        loss1 = criterion(outputs, labels)\n",
    "                        loss2 = criterion(aux_outputs, labels)\n",
    "                        loss = loss1 + 0.4*loss2\n",
    "                    else:\n",
    "                        outputs = model(inputs)\n",
    "                        # print(outputs)\n",
    "                        loss = criterion(outputs, labels)\n",
    "\n",
    "                    # backward + optimize only if in training phase\n",
    "                    if phase == 'train':\n",
    "                        loss.backward()\n",
    "                        optimizer.step()\n",
    "\n",
    "                # statistics\n",
    "                running_loss += loss.item() * inputs.size(0)\n",
    "                # running_corrects += torch.sum(preds == labels.data)\n",
    "\n",
    "            epoch_loss = running_loss / length[phase]\n",
    "            # epoch_acc = running_corrects.double() / len(dataloaders[phase].dataset)\n",
    "\n",
    "            # print('{} Loss: {:.4f} Acc: {:.4f}'.format(phase, epoch_loss, epoch_acc))\n",
    "            print('{} Loss: {:.4f}'.format(phase, epoch_loss))\n",
    "\n",
    "            # deep copy the model\n",
    "            if phase == 'val' and epoch_loss < best_loss:\n",
    "                best_loss = epoch_loss\n",
    "                best_model_wts = copy.deepcopy(model.state_dict())\n",
    "            if phase == 'val':\n",
    "                val_loss_history.append(epoch_loss)\n",
    "            if phase == 'train':\n",
    "                train_loss_history.append(epoch_loss)\n",
    "\n",
    "        print()\n",
    "\n",
    "    time_elapsed = time.time() - since\n",
    "    print('Training complete in {:.0f}m {:.0f}s'.format(time_elapsed // 60, time_elapsed % 60))\n",
    "    print('Best val Loss: {:4f}'.format(best_loss))\n",
    "\n",
    "    # load best model weights\n",
    "    model.load_state_dict(best_model_wts)\n",
    "    return model, val_loss_history, train_loss_history"
   ]
  },
  {
   "cell_type": "code",
   "execution_count": 25,
   "metadata": {},
   "outputs": [],
   "source": [
    "def learn(model, data_source, batch_size, num_epochs):\n",
    "    dataDic = {\n",
    "        '2017': 'TCIR-ALL_2017.h5',\n",
    "        'c-i-sh': 'TCIR-CPAC_IO_SH.h5',\n",
    "        'a-e-w':'TCIR-ATLN_EPAC_WPAC.h5'\n",
    "    }\n",
    "    transf = {\n",
    "        '2017': {'mean': None, 'std': None},\n",
    "        'c-i-sh': {'mean': None, 'std': None}, \n",
    "        'a-e-w': {'mean': None, 'std': None}\n",
    "    }\n",
    "    data_transform = transforms.Normalize(mean=transf[data_source]['mean'], std=transf[data_source]['std'])\n",
    "    data = kddTCData(dataDic[data_source],\n",
    "                         transform = data_transform)\n",
    "    \n",
    "    NUM_DATA = 500 # data.length()\n",
    "    print(NUM_DATA)\n",
    "    length = {}\n",
    "    length['train'] = int(NUM_DATA * 0.7)\n",
    "    length['val'] = NUM_DATA - int(NUM_DATA * 0.7)\n",
    "    dataloaders = {}\n",
    "    dataloaders['train'] = DataLoader(data, batch_size=batch_size, \n",
    "                                      sampler=SubsetRandomSampler(range(int(NUM_DATA * 0.7))),\n",
    "                             num_workers=4)\n",
    "    dataloaders['val'] = DataLoader(data, batch_size=batch_size, \n",
    "                                    sampler=SubsetRandomSampler(range(int(NUM_DATA * 0.7), NUM_DATA)),\n",
    "                            num_workers=4)\n",
    "    \n",
    "    model = model.to(device)\n",
    "\n",
    "    criterion = nn.MSELoss()\n",
    "\n",
    "    # Observe that all parameters are being optimized\n",
    "    # optim.SGD(kdd18.parameters(), lr=0.001, momentum=0.9)\n",
    "    model_optmzer = optim.Adam(model.parameters(), lr=0.0001, weight_decay=0.00001)\n",
    "\n",
    "    model, val_loss_history, train_loss_history = train_model(model, dataloaders, criterion, \n",
    "                           model_optmzer, num_epochs=num_epochs, length = length)\n",
    "    return model, val_loss_history, train_loss_history"
   ]
  },
  {
   "cell_type": "code",
   "execution_count": 26,
   "metadata": {},
   "outputs": [
    {
     "name": "stdout",
     "output_type": "stream",
     "text": [
      "500\n",
      "Epoch 0/99\n",
      "----------\n",
      "train Loss: 5227.9162\n",
      "val Loss: 657.3753\n",
      "\n",
      "Epoch 1/99\n",
      "----------\n",
      "train Loss: 5091.9267\n",
      "val Loss: 595.9129\n",
      "\n",
      "Epoch 2/99\n",
      "----------\n",
      "train Loss: 4952.6401\n",
      "val Loss: 517.6637\n",
      "\n",
      "Epoch 3/99\n",
      "----------\n",
      "train Loss: 4750.6253\n",
      "val Loss: 411.2284\n",
      "\n",
      "Epoch 4/99\n",
      "----------\n",
      "train Loss: 4479.4202\n",
      "val Loss: 277.9759\n",
      "\n",
      "Epoch 5/99\n",
      "----------\n",
      "train Loss: 4098.7953\n",
      "val Loss: 132.6577\n",
      "\n",
      "Epoch 6/99\n",
      "----------\n",
      "train Loss: 3605.5051\n",
      "val Loss: 31.7875\n",
      "\n",
      "Epoch 7/99\n",
      "----------\n",
      "train Loss: 2997.6089\n",
      "val Loss: 128.9681\n",
      "\n",
      "Epoch 8/99\n",
      "----------\n",
      "train Loss: 2398.8438\n",
      "val Loss: 733.8793\n",
      "\n",
      "Epoch 9/99\n",
      "----------\n",
      "train Loss: 2116.7122\n",
      "val Loss: 1990.0893\n",
      "\n",
      "Epoch 10/99\n",
      "----------\n",
      "train Loss: 2260.5772\n",
      "val Loss: 2493.8110\n",
      "\n",
      "Epoch 11/99\n",
      "----------\n",
      "train Loss: 2301.9771\n",
      "val Loss: 1909.2713\n",
      "\n",
      "Epoch 12/99\n",
      "----------\n",
      "train Loss: 2154.6664\n",
      "val Loss: 1173.9405\n",
      "\n",
      "Epoch 13/99\n",
      "----------\n",
      "train Loss: 2087.1091\n",
      "val Loss: 774.9469\n",
      "\n",
      "Epoch 14/99\n",
      "----------\n",
      "train Loss: 2101.6597\n",
      "val Loss: 653.3036\n",
      "\n",
      "Epoch 15/99\n",
      "----------\n",
      "train Loss: 2134.5640\n",
      "val Loss: 656.4777\n",
      "\n",
      "Epoch 16/99\n",
      "----------\n",
      "train Loss: 2114.4096\n",
      "val Loss: 816.0032\n",
      "\n",
      "Epoch 17/99\n",
      "----------\n",
      "train Loss: 2085.6659\n",
      "val Loss: 1055.8312\n",
      "\n",
      "Epoch 18/99\n",
      "----------\n",
      "train Loss: 2071.5208\n",
      "val Loss: 1272.0729\n",
      "\n",
      "Epoch 19/99\n",
      "----------\n",
      "train Loss: 2085.3277\n",
      "val Loss: 1353.5197\n",
      "\n",
      "Epoch 20/99\n",
      "----------\n",
      "train Loss: 2085.9876\n",
      "val Loss: 1265.0861\n",
      "\n",
      "Epoch 21/99\n",
      "----------\n",
      "train Loss: 2086.6634\n",
      "val Loss: 1092.6769\n",
      "\n",
      "Epoch 22/99\n",
      "----------\n",
      "train Loss: 2078.5929\n",
      "val Loss: 995.4614\n",
      "\n",
      "Epoch 23/99\n",
      "----------\n",
      "train Loss: 2084.5437\n",
      "val Loss: 930.0061\n",
      "\n",
      "Epoch 24/99\n",
      "----------\n",
      "train Loss: 2080.9291\n",
      "val Loss: 985.2992\n",
      "\n",
      "Epoch 25/99\n",
      "----------\n",
      "train Loss: 2073.0009\n",
      "val Loss: 1054.3865\n",
      "\n",
      "Epoch 26/99\n",
      "----------\n",
      "train Loss: 2070.8987\n",
      "val Loss: 1114.3988\n",
      "\n",
      "Epoch 27/99\n",
      "----------\n",
      "train Loss: 2075.0825\n",
      "val Loss: 1170.4516\n",
      "\n",
      "Epoch 28/99\n",
      "----------\n",
      "train Loss: 2074.5773\n",
      "val Loss: 1175.9559\n",
      "\n",
      "Epoch 29/99\n",
      "----------\n",
      "train Loss: 2075.9845\n",
      "val Loss: 1120.0711\n",
      "\n",
      "Epoch 30/99\n",
      "----------\n",
      "train Loss: 2073.0798\n",
      "val Loss: 1040.2885\n",
      "\n",
      "Epoch 31/99\n",
      "----------\n",
      "train Loss: 2073.6987\n",
      "val Loss: 1008.6776\n",
      "\n",
      "Epoch 32/99\n",
      "----------\n",
      "train Loss: 2075.6318\n",
      "val Loss: 1005.7450\n",
      "\n",
      "Epoch 33/99\n",
      "----------\n",
      "train Loss: 2076.2753\n",
      "val Loss: 1020.3267\n",
      "\n",
      "Epoch 34/99\n",
      "----------\n",
      "train Loss: 2075.6758\n",
      "val Loss: 1088.6559\n",
      "\n",
      "Epoch 35/99\n",
      "----------\n",
      "train Loss: 2074.8410\n",
      "val Loss: 1077.9123\n",
      "\n",
      "Epoch 36/99\n",
      "----------\n",
      "train Loss: 2076.2706\n",
      "val Loss: 1151.7855\n",
      "\n",
      "Epoch 37/99\n",
      "----------\n",
      "train Loss: 2072.9757\n",
      "val Loss: 1130.9067\n",
      "\n",
      "Epoch 38/99\n",
      "----------\n",
      "train Loss: 2074.3937\n",
      "val Loss: 1107.2109\n",
      "\n",
      "Epoch 39/99\n",
      "----------\n",
      "train Loss: 2072.4305\n",
      "val Loss: 1049.8726\n",
      "\n",
      "Epoch 40/99\n",
      "----------\n",
      "train Loss: 2072.9419\n",
      "val Loss: 1022.2183\n",
      "\n",
      "Epoch 41/99\n",
      "----------\n",
      "train Loss: 2075.4426\n",
      "val Loss: 1043.5033\n",
      "\n",
      "Epoch 42/99\n",
      "----------\n",
      "train Loss: 2077.2913\n",
      "val Loss: 1077.3359\n",
      "\n",
      "Epoch 43/99\n",
      "----------\n",
      "train Loss: 2073.6574\n",
      "val Loss: 1085.1251\n",
      "\n",
      "Epoch 44/99\n",
      "----------\n",
      "train Loss: 2079.0506\n",
      "val Loss: 1048.0777\n",
      "\n",
      "Epoch 45/99\n",
      "----------\n",
      "train Loss: 2079.8209\n",
      "val Loss: 1068.0278\n",
      "\n",
      "Epoch 46/99\n",
      "----------\n",
      "train Loss: 2086.2985\n",
      "val Loss: 1092.2004\n",
      "\n",
      "Epoch 47/99\n",
      "----------\n",
      "train Loss: 2071.3629\n",
      "val Loss: 1080.8835\n",
      "\n",
      "Epoch 48/99\n",
      "----------\n",
      "train Loss: 2072.5787\n",
      "val Loss: 1108.0452\n",
      "\n",
      "Epoch 49/99\n",
      "----------\n",
      "train Loss: 2077.8235\n",
      "val Loss: 1098.4313\n",
      "\n",
      "Epoch 50/99\n",
      "----------\n",
      "train Loss: 2075.8216\n",
      "val Loss: 1153.1407\n",
      "\n",
      "Epoch 51/99\n",
      "----------\n",
      "train Loss: 2073.1242\n",
      "val Loss: 1112.3824\n",
      "\n",
      "Epoch 52/99\n",
      "----------\n",
      "train Loss: 2075.8965\n",
      "val Loss: 1033.2268\n",
      "\n",
      "Epoch 53/99\n",
      "----------\n",
      "train Loss: 2072.4738\n",
      "val Loss: 1065.1639\n",
      "\n",
      "Epoch 54/99\n",
      "----------\n",
      "train Loss: 2094.4149\n",
      "val Loss: 1003.6770\n",
      "\n",
      "Epoch 55/99\n",
      "----------\n",
      "train Loss: 2082.7832\n",
      "val Loss: 1148.3096\n",
      "\n",
      "Epoch 56/99\n",
      "----------\n",
      "train Loss: 2091.3345\n",
      "val Loss: 1187.2576\n",
      "\n",
      "Epoch 57/99\n",
      "----------\n",
      "train Loss: 2070.3067\n",
      "val Loss: 1062.2225\n",
      "\n",
      "Epoch 58/99\n",
      "----------\n",
      "train Loss: 2083.3080\n",
      "val Loss: 919.5818\n",
      "\n",
      "Epoch 59/99\n",
      "----------\n",
      "train Loss: 2078.6492\n",
      "val Loss: 958.5248\n",
      "\n",
      "Epoch 60/99\n",
      "----------\n",
      "train Loss: 2071.9771\n",
      "val Loss: 1079.0223\n",
      "\n",
      "Epoch 61/99\n",
      "----------\n",
      "train Loss: 2070.4901\n",
      "val Loss: 1177.9190\n",
      "\n",
      "Epoch 62/99\n",
      "----------\n",
      "train Loss: 2073.1033\n",
      "val Loss: 1209.4271\n",
      "\n",
      "Epoch 63/99\n",
      "----------\n",
      "train Loss: 2081.0081\n",
      "val Loss: 1134.3653\n",
      "\n",
      "Epoch 64/99\n",
      "----------\n",
      "train Loss: 2071.3287\n",
      "val Loss: 1093.8046\n",
      "\n",
      "Epoch 65/99\n",
      "----------\n",
      "train Loss: 2074.8346\n",
      "val Loss: 1031.7228\n",
      "\n",
      "Epoch 66/99\n",
      "----------\n",
      "train Loss: 2070.7505\n",
      "val Loss: 1053.2912\n",
      "\n",
      "Epoch 67/99\n",
      "----------\n",
      "train Loss: 2072.0479\n",
      "val Loss: 1068.7810\n",
      "\n",
      "Epoch 68/99\n",
      "----------\n",
      "train Loss: 2074.6008\n",
      "val Loss: 1049.1992\n",
      "\n",
      "Epoch 69/99\n",
      "----------\n",
      "train Loss: 2069.5008\n",
      "val Loss: 1064.8717\n",
      "\n",
      "Epoch 70/99\n",
      "----------\n",
      "train Loss: 2072.7358\n",
      "val Loss: 1123.0537\n",
      "\n",
      "Epoch 71/99\n",
      "----------\n",
      "train Loss: 2069.4791\n",
      "val Loss: 1097.2910\n",
      "\n",
      "Epoch 72/99\n",
      "----------\n",
      "train Loss: 2070.4434\n",
      "val Loss: 1080.0695\n",
      "\n",
      "Epoch 73/99\n",
      "----------\n",
      "train Loss: 2073.8796\n",
      "val Loss: 1004.8891\n",
      "\n",
      "Epoch 74/99\n",
      "----------\n",
      "train Loss: 2071.2847\n",
      "val Loss: 1017.4622\n",
      "\n",
      "Epoch 75/99\n",
      "----------\n",
      "train Loss: 2066.6134\n",
      "val Loss: 1030.6286\n",
      "\n",
      "Epoch 76/99\n",
      "----------\n",
      "train Loss: 2076.9227\n",
      "val Loss: 1080.3763\n",
      "\n",
      "Epoch 77/99\n",
      "----------\n",
      "train Loss: 2066.8309\n",
      "val Loss: 1049.7391\n",
      "\n",
      "Epoch 78/99\n",
      "----------\n",
      "train Loss: 2066.5371\n",
      "val Loss: 1002.0439\n",
      "\n",
      "Epoch 79/99\n",
      "----------\n",
      "train Loss: 2067.0444\n",
      "val Loss: 978.3636\n",
      "\n",
      "Epoch 80/99\n",
      "----------\n",
      "train Loss: 2066.5202\n",
      "val Loss: 1035.8299\n",
      "\n",
      "Epoch 81/99\n",
      "----------\n",
      "train Loss: 2070.3309\n",
      "val Loss: 1076.1289\n",
      "\n",
      "Epoch 82/99\n",
      "----------\n",
      "train Loss: 2064.7193\n",
      "val Loss: 1177.7950\n",
      "\n",
      "Epoch 83/99\n",
      "----------\n",
      "train Loss: 2067.8000\n",
      "val Loss: 1132.2392\n",
      "\n",
      "Epoch 84/99\n",
      "----------\n",
      "train Loss: 2065.2058\n",
      "val Loss: 1064.1697\n",
      "\n",
      "Epoch 85/99\n",
      "----------\n",
      "train Loss: 2066.0556\n",
      "val Loss: 1000.3680\n",
      "\n",
      "Epoch 86/99\n",
      "----------\n",
      "train Loss: 2071.0264\n",
      "val Loss: 1049.7689\n",
      "\n",
      "Epoch 87/99\n",
      "----------\n",
      "train Loss: 2062.0512\n",
      "val Loss: 1004.0206\n",
      "\n",
      "Epoch 88/99\n",
      "----------\n",
      "train Loss: 2071.7735\n",
      "val Loss: 950.3825\n",
      "\n",
      "Epoch 89/99\n",
      "----------\n",
      "train Loss: 2067.9857\n",
      "val Loss: 1028.7832\n",
      "\n",
      "Epoch 90/99\n",
      "----------\n",
      "train Loss: 2063.6582\n",
      "val Loss: 1187.2876\n",
      "\n",
      "Epoch 91/99\n",
      "----------\n",
      "train Loss: 2073.0398\n",
      "val Loss: 1231.1850\n",
      "\n",
      "Epoch 92/99\n",
      "----------\n",
      "train Loss: 2065.6663\n",
      "val Loss: 1064.4500\n",
      "\n",
      "Epoch 93/99\n",
      "----------\n",
      "train Loss: 2067.3757\n",
      "val Loss: 889.7655\n",
      "\n",
      "Epoch 94/99\n",
      "----------\n",
      "train Loss: 2066.8897\n",
      "val Loss: 933.5331\n",
      "\n",
      "Epoch 95/99\n",
      "----------\n",
      "train Loss: 2067.5283\n",
      "val Loss: 1057.7182\n",
      "\n",
      "Epoch 96/99\n",
      "----------\n",
      "train Loss: 2062.3759\n",
      "val Loss: 1103.2539\n",
      "\n",
      "Epoch 97/99\n",
      "----------\n",
      "train Loss: 2067.1825\n",
      "val Loss: 1037.8282\n",
      "\n",
      "Epoch 98/99\n",
      "----------\n",
      "train Loss: 2066.6489\n",
      "val Loss: 1058.2614\n",
      "\n",
      "Epoch 99/99\n",
      "----------\n",
      "train Loss: 2066.5266\n",
      "val Loss: 988.0896\n",
      "\n",
      "Training complete in 2m 0s\n",
      "Best val Loss: 31.787533\n"
     ]
    }
   ],
   "source": [
    "kdd18 = kddTC(pretrained=False)\n",
    "_, val_loss, train_loss = learn(kdd18, 'c-i-sh', batch_size = 128, num_epochs = 100)"
   ]
  },
  {
   "cell_type": "markdown",
   "metadata": {},
   "source": [
    "### Plot"
   ]
  },
  {
   "cell_type": "code",
   "execution_count": 28,
   "metadata": {},
   "outputs": [
    {
     "data": {
      "image/png": "[encoded data removed]",
      "text/plain": [
       "<Figure size 432x288 with 1 Axes>"
      ]
     },
     "metadata": {
      "needs_background": "light"
     },
     "output_type": "display_data"
    }
   ],
   "source": [
    "# plt.plot(val_loss, label = 'val')\n",
    "plt.plot(train_loss, label = 'train')\n",
    "plt.title('Losses curve on (500 *0.7) training dataset')\n",
    "plt.legend()\n",
    "plt.show()"
   ]
  },
  {
   "cell_type": "code",
   "execution_count": 19,
   "metadata": {},
   "outputs": [
    {
     "data": {
      "image/png": "[encoded data removed]",
      "text/plain": [
       "<Figure size 432x288 with 1 Axes>"
      ]
     },
     "metadata": {
      "needs_background": "light"
     },
     "output_type": "display_data"
    }
   ],
   "source": [
    "# plt.plot(val_loss, label = 'val')\n",
    "plt.plot(train_loss, label = 'train')\n",
    "plt.title('Losses curve on (150 *0.7) training dataset')\n",
    "plt.legend()\n",
    "plt.show()"
   ]
  },
  {
   "cell_type": "code",
   "execution_count": null,
   "metadata": {},
   "outputs": [],
   "source": []
  },
  {
   "cell_type": "markdown",
   "metadata": {
    "heading_collapsed": true
   },
   "source": [
    "### ResNet"
   ]
  },
  {
   "cell_type": "code",
   "execution_count": null,
   "metadata": {
    "hidden": true
   },
   "outputs": [],
   "source": [
    "resnet = resnet34(pretrained=False)\n",
    "num_ftrs = resnet.fc.in_features\n",
    "num_output = 1\n",
    "resnet.fc = nn.Linear(num_ftrs, num_output)\n",
    "\n",
    "resnet = resnet.to(device)\n",
    "\n",
    "criterion = nn.MSELoss()\n",
    "\n",
    "# Observe that all parameters are being optimized\n",
    "resnet_optmzer = optim.SGD(resnet.parameters(), lr=0.001, momentum=0.9)\n",
    "\n",
    "resnet = train_model(resnet, dataloaders, criterion, \n",
    "                       resnet_optmzer, num_epochs=1)"
   ]
  }
 ],
 "metadata": {
  "anaconda-cloud": {},
  "kernelspec": {
   "display_name": "Python 3",
   "language": "python",
   "name": "python3"
  },
  "language_info": {
   "codemirror_mode": {
    "name": "ipython",
    "version": 3
   },
   "file_extension": ".py",
   "mimetype": "text/x-python",
   "name": "python",
   "nbconvert_exporter": "python",
   "pygments_lexer": "ipython3",
   "version": "3.7.3"
  }
 },
 "nbformat": 4,
 "nbformat_minor": 2
}
